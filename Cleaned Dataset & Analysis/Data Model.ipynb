{
 "cells": [
  {
   "cell_type": "code",
   "execution_count": 10,
   "id": "b6b9ed1b",
   "metadata": {},
   "outputs": [],
   "source": [
    "import pandas as pd\n",
    "import numpy as np"
   ]
  },
  {
   "cell_type": "code",
   "execution_count": 3,
   "id": "927f1bd6",
   "metadata": {},
   "outputs": [],
   "source": [
    "df = pd.read_csv(\"Actuals.csv\")"
   ]
  },
  {
   "cell_type": "code",
   "execution_count": 4,
   "id": "5f5f9703",
   "metadata": {},
   "outputs": [
    {
     "data": {
      "text/html": [
       "<div>\n",
       "<style scoped>\n",
       "    .dataframe tbody tr th:only-of-type {\n",
       "        vertical-align: middle;\n",
       "    }\n",
       "\n",
       "    .dataframe tbody tr th {\n",
       "        vertical-align: top;\n",
       "    }\n",
       "\n",
       "    .dataframe thead th {\n",
       "        text-align: right;\n",
       "    }\n",
       "</style>\n",
       "<table border=\"1\" class=\"dataframe\">\n",
       "  <thead>\n",
       "    <tr style=\"text-align: right;\">\n",
       "      <th></th>\n",
       "      <th>Material Description</th>\n",
       "      <th>Plant</th>\n",
       "      <th>Period</th>\n",
       "      <th>Year</th>\n",
       "      <th>Amount in LC</th>\n",
       "      <th>Quantity</th>\n",
       "    </tr>\n",
       "  </thead>\n",
       "  <tbody>\n",
       "    <tr>\n",
       "      <th>0</th>\n",
       "      <td>B&amp;CR: 660RB Green Lite &amp; Red Crate</td>\n",
       "      <td>AA</td>\n",
       "      <td>7</td>\n",
       "      <td>2022</td>\n",
       "      <td>6,659.40</td>\n",
       "      <td>222</td>\n",
       "    </tr>\n",
       "    <tr>\n",
       "      <th>1</th>\n",
       "      <td>B&amp;CR: 660RB Green Lite &amp; Red Crate</td>\n",
       "      <td>AA</td>\n",
       "      <td>7</td>\n",
       "      <td>2022</td>\n",
       "      <td>8,301.32</td>\n",
       "      <td>276</td>\n",
       "    </tr>\n",
       "    <tr>\n",
       "      <th>2</th>\n",
       "      <td>B&amp;CR: 660RB Green Lite &amp; Red Crate</td>\n",
       "      <td>AA</td>\n",
       "      <td>7</td>\n",
       "      <td>2022</td>\n",
       "      <td>5,806.34</td>\n",
       "      <td>193</td>\n",
       "    </tr>\n",
       "    <tr>\n",
       "      <th>3</th>\n",
       "      <td>B&amp;CR: 660RB Green Lite &amp; Red Crate</td>\n",
       "      <td>AA</td>\n",
       "      <td>7</td>\n",
       "      <td>2022</td>\n",
       "      <td>8,567.33</td>\n",
       "      <td>285</td>\n",
       "    </tr>\n",
       "    <tr>\n",
       "      <th>4</th>\n",
       "      <td>B&amp;CR: 660RB Green Lite &amp; Red Crate</td>\n",
       "      <td>AA</td>\n",
       "      <td>7</td>\n",
       "      <td>2022</td>\n",
       "      <td>11,897.03</td>\n",
       "      <td>395</td>\n",
       "    </tr>\n",
       "  </tbody>\n",
       "</table>\n",
       "</div>"
      ],
      "text/plain": [
       "                 Material Description Plant  Period  Year Amount in LC  \\\n",
       "0  B&CR: 660RB Green Lite & Red Crate    AA       7  2022    6,659.40    \n",
       "1  B&CR: 660RB Green Lite & Red Crate    AA       7  2022    8,301.32    \n",
       "2  B&CR: 660RB Green Lite & Red Crate    AA       7  2022    5,806.34    \n",
       "3  B&CR: 660RB Green Lite & Red Crate    AA       7  2022    8,567.33    \n",
       "4  B&CR: 660RB Green Lite & Red Crate    AA       7  2022   11,897.03    \n",
       "\n",
       "   Quantity  \n",
       "0       222  \n",
       "1       276  \n",
       "2       193  \n",
       "3       285  \n",
       "4       395  "
      ]
     },
     "execution_count": 4,
     "metadata": {},
     "output_type": "execute_result"
    }
   ],
   "source": [
    "df.head()"
   ]
  },
  {
   "cell_type": "code",
   "execution_count": 6,
   "id": "6f5bf165",
   "metadata": {},
   "outputs": [
    {
     "data": {
      "text/plain": [
       "Material Description    1\n",
       "Plant                   1\n",
       "Period                  0\n",
       "Year                    0\n",
       "Amount in LC            0\n",
       "Quantity                0\n",
       "dtype: int64"
      ]
     },
     "execution_count": 6,
     "metadata": {},
     "output_type": "execute_result"
    }
   ],
   "source": [
    "df.isna().sum()"
   ]
  },
  {
   "cell_type": "code",
   "execution_count": 19,
   "id": "5714fcc6",
   "metadata": {},
   "outputs": [
    {
     "data": {
      "text/plain": [
       "(65065, 6)"
      ]
     },
     "execution_count": 19,
     "metadata": {},
     "output_type": "execute_result"
    }
   ],
   "source": [
    "df.shape"
   ]
  },
  {
   "cell_type": "code",
   "execution_count": 20,
   "id": "e480f3b6",
   "metadata": {},
   "outputs": [
    {
     "data": {
      "text/html": [
       "<div>\n",
       "<style scoped>\n",
       "    .dataframe tbody tr th:only-of-type {\n",
       "        vertical-align: middle;\n",
       "    }\n",
       "\n",
       "    .dataframe tbody tr th {\n",
       "        vertical-align: top;\n",
       "    }\n",
       "\n",
       "    .dataframe thead th {\n",
       "        text-align: right;\n",
       "    }\n",
       "</style>\n",
       "<table border=\"1\" class=\"dataframe\">\n",
       "  <thead>\n",
       "    <tr style=\"text-align: right;\">\n",
       "      <th></th>\n",
       "      <th>Material Description</th>\n",
       "      <th>Plant</th>\n",
       "      <th>Period</th>\n",
       "      <th>Year</th>\n",
       "      <th>Amount in LC</th>\n",
       "      <th>Quantity</th>\n",
       "    </tr>\n",
       "  </thead>\n",
       "  <tbody>\n",
       "    <tr>\n",
       "      <th>13042</th>\n",
       "      <td>NaN</td>\n",
       "      <td>NaN</td>\n",
       "      <td>8</td>\n",
       "      <td>2022</td>\n",
       "      <td>-1,78,233.16</td>\n",
       "      <td>2</td>\n",
       "    </tr>\n",
       "  </tbody>\n",
       "</table>\n",
       "</div>"
      ],
      "text/plain": [
       "      Material Description Plant  Period  Year    Amount in LC  Quantity\n",
       "13042                  NaN   NaN       8  2022   -1,78,233.16          2"
      ]
     },
     "execution_count": 20,
     "metadata": {},
     "output_type": "execute_result"
    }
   ],
   "source": [
    "nf = df[df['Material Description'].isna()]\n",
    "nf"
   ]
  },
  {
   "cell_type": "code",
   "execution_count": 15,
   "id": "a6054dba",
   "metadata": {},
   "outputs": [],
   "source": [
    "acts = df[~df['Material Description'].isna()]"
   ]
  },
  {
   "cell_type": "code",
   "execution_count": 16,
   "id": "b45f1953",
   "metadata": {},
   "outputs": [
    {
     "data": {
      "text/html": [
       "<div>\n",
       "<style scoped>\n",
       "    .dataframe tbody tr th:only-of-type {\n",
       "        vertical-align: middle;\n",
       "    }\n",
       "\n",
       "    .dataframe tbody tr th {\n",
       "        vertical-align: top;\n",
       "    }\n",
       "\n",
       "    .dataframe thead th {\n",
       "        text-align: right;\n",
       "    }\n",
       "</style>\n",
       "<table border=\"1\" class=\"dataframe\">\n",
       "  <thead>\n",
       "    <tr style=\"text-align: right;\">\n",
       "      <th></th>\n",
       "      <th>Material Description</th>\n",
       "      <th>Plant</th>\n",
       "      <th>Period</th>\n",
       "      <th>Year</th>\n",
       "      <th>Amount in LC</th>\n",
       "      <th>Quantity</th>\n",
       "    </tr>\n",
       "  </thead>\n",
       "  <tbody>\n",
       "    <tr>\n",
       "      <th>0</th>\n",
       "      <td>B&amp;CR: 660RB Green Lite &amp; Red Crate</td>\n",
       "      <td>AA</td>\n",
       "      <td>7</td>\n",
       "      <td>2022</td>\n",
       "      <td>6,659.40</td>\n",
       "      <td>222</td>\n",
       "    </tr>\n",
       "    <tr>\n",
       "      <th>1</th>\n",
       "      <td>B&amp;CR: 660RB Green Lite &amp; Red Crate</td>\n",
       "      <td>AA</td>\n",
       "      <td>7</td>\n",
       "      <td>2022</td>\n",
       "      <td>8,301.32</td>\n",
       "      <td>276</td>\n",
       "    </tr>\n",
       "    <tr>\n",
       "      <th>2</th>\n",
       "      <td>B&amp;CR: 660RB Green Lite &amp; Red Crate</td>\n",
       "      <td>AA</td>\n",
       "      <td>7</td>\n",
       "      <td>2022</td>\n",
       "      <td>5,806.34</td>\n",
       "      <td>193</td>\n",
       "    </tr>\n",
       "    <tr>\n",
       "      <th>3</th>\n",
       "      <td>B&amp;CR: 660RB Green Lite &amp; Red Crate</td>\n",
       "      <td>AA</td>\n",
       "      <td>7</td>\n",
       "      <td>2022</td>\n",
       "      <td>8,567.33</td>\n",
       "      <td>285</td>\n",
       "    </tr>\n",
       "    <tr>\n",
       "      <th>4</th>\n",
       "      <td>B&amp;CR: 660RB Green Lite &amp; Red Crate</td>\n",
       "      <td>AA</td>\n",
       "      <td>7</td>\n",
       "      <td>2022</td>\n",
       "      <td>11,897.03</td>\n",
       "      <td>395</td>\n",
       "    </tr>\n",
       "  </tbody>\n",
       "</table>\n",
       "</div>"
      ],
      "text/plain": [
       "                 Material Description Plant  Period  Year Amount in LC  \\\n",
       "0  B&CR: 660RB Green Lite & Red Crate    AA       7  2022    6,659.40    \n",
       "1  B&CR: 660RB Green Lite & Red Crate    AA       7  2022    8,301.32    \n",
       "2  B&CR: 660RB Green Lite & Red Crate    AA       7  2022    5,806.34    \n",
       "3  B&CR: 660RB Green Lite & Red Crate    AA       7  2022    8,567.33    \n",
       "4  B&CR: 660RB Green Lite & Red Crate    AA       7  2022   11,897.03    \n",
       "\n",
       "   Quantity  \n",
       "0       222  \n",
       "1       276  \n",
       "2       193  \n",
       "3       285  \n",
       "4       395  "
      ]
     },
     "execution_count": 16,
     "metadata": {},
     "output_type": "execute_result"
    }
   ],
   "source": [
    "acts.head()"
   ]
  },
  {
   "cell_type": "code",
   "execution_count": 17,
   "id": "f0583ffa",
   "metadata": {},
   "outputs": [
    {
     "data": {
      "text/plain": [
       "(65064, 6)"
      ]
     },
     "execution_count": 17,
     "metadata": {},
     "output_type": "execute_result"
    }
   ],
   "source": [
    "acts.shape"
   ]
  },
  {
   "cell_type": "code",
   "execution_count": 18,
   "id": "0fd1ccd3",
   "metadata": {},
   "outputs": [
    {
     "data": {
      "text/plain": [
       "Material Description    0\n",
       "Plant                   0\n",
       "Period                  0\n",
       "Year                    0\n",
       "Amount in LC            0\n",
       "Quantity                0\n",
       "dtype: int64"
      ]
     },
     "execution_count": 18,
     "metadata": {},
     "output_type": "execute_result"
    }
   ],
   "source": [
    "acts.isna().sum()"
   ]
  },
  {
   "cell_type": "code",
   "execution_count": 21,
   "id": "c3efb8f0",
   "metadata": {},
   "outputs": [],
   "source": [
    "bcr = pd.read_csv(\"B&CR.csv\")"
   ]
  },
  {
   "cell_type": "code",
   "execution_count": 22,
   "id": "7f6bcbbb",
   "metadata": {},
   "outputs": [],
   "source": [
    "price = pd.read_csv('Price.csv')"
   ]
  },
  {
   "cell_type": "code",
   "execution_count": 24,
   "id": "f4026b53",
   "metadata": {},
   "outputs": [],
   "source": [
    "tgt = pd.read_csv('Targets.csv')"
   ]
  },
  {
   "cell_type": "code",
   "execution_count": 25,
   "id": "ebb1c54d",
   "metadata": {},
   "outputs": [
    {
     "data": {
      "text/plain": [
       "((74, 3), (519, 3), (926, 6))"
      ]
     },
     "execution_count": 25,
     "metadata": {},
     "output_type": "execute_result"
    }
   ],
   "source": [
    "bcr.shape,price.shape,tgt.shape"
   ]
  },
  {
   "cell_type": "code",
   "execution_count": 26,
   "id": "b91f3dc9",
   "metadata": {},
   "outputs": [],
   "source": [
    "test_df = acts.merge(price, on=['Material Description', 'Plant'])"
   ]
  },
  {
   "cell_type": "code",
   "execution_count": 27,
   "id": "e92bf895",
   "metadata": {},
   "outputs": [
    {
     "data": {
      "text/plain": [
       "(65113, 7)"
      ]
     },
     "execution_count": 27,
     "metadata": {},
     "output_type": "execute_result"
    }
   ],
   "source": [
    "test_df.shape"
   ]
  },
  {
   "cell_type": "code",
   "execution_count": 28,
   "id": "ab188f9b",
   "metadata": {},
   "outputs": [],
   "source": [
    "test_df.to_csv('TestFile.csv')"
   ]
  },
  {
   "cell_type": "code",
   "execution_count": 29,
   "id": "f317579a",
   "metadata": {},
   "outputs": [
    {
     "data": {
      "text/plain": [
       "Year                    0\n",
       "Period                  0\n",
       "Plant                 700\n",
       "Material Number       572\n",
       "Target Value in LC      0\n",
       "Target Quantity         0\n",
       "dtype: int64"
      ]
     },
     "execution_count": 29,
     "metadata": {},
     "output_type": "execute_result"
    }
   ],
   "source": [
    "tgt.isna().sum()"
   ]
  },
  {
   "cell_type": "code",
   "execution_count": 30,
   "id": "5dbecb26",
   "metadata": {},
   "outputs": [
    {
     "data": {
      "text/plain": [
       "(926, 6)"
      ]
     },
     "execution_count": 30,
     "metadata": {},
     "output_type": "execute_result"
    }
   ],
   "source": [
    "tgt.shape"
   ]
  },
  {
   "cell_type": "code",
   "execution_count": null,
   "id": "8b6cfc47",
   "metadata": {},
   "outputs": [],
   "source": []
  }
 ],
 "metadata": {
  "kernelspec": {
   "display_name": "Python 3 (ipykernel)",
   "language": "python",
   "name": "python3"
  },
  "language_info": {
   "codemirror_mode": {
    "name": "ipython",
    "version": 3
   },
   "file_extension": ".py",
   "mimetype": "text/x-python",
   "name": "python",
   "nbconvert_exporter": "python",
   "pygments_lexer": "ipython3",
   "version": "3.9.12"
  }
 },
 "nbformat": 4,
 "nbformat_minor": 5
}
